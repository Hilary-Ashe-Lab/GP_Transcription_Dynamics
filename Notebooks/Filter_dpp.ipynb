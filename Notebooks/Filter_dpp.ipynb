{
 "cells": [
  {
   "cell_type": "code",
   "execution_count": 40,
   "metadata": {},
   "outputs": [],
   "source": [
    "import numpy as np\n",
    "import pandas as pd\n",
    "import matplotlib.pyplot as plt\n",
    "import matplotlib.patches as mpatches\n",
    "from scipy.stats.distributions import chi2\n",
    "from matplotlib import pyplot as plt"
   ]
  },
  {
   "cell_type": "code",
   "execution_count": 41,
   "metadata": {},
   "outputs": [],
   "source": [
    "from scipy import stats"
   ]
  },
  {
   "cell_type": "code",
   "execution_count": 42,
   "metadata": {},
   "outputs": [],
   "source": [
    "data1 = pd.read_csv('LB_GP_TS.csv', sep=\",\")\n",
    "data2 = pd.read_csv('Exon_intron_counts_data_normalizedbylibrarydepthonly_20200120.txt',sep=\" \")"
   ]
  },
  {
   "cell_type": "code",
   "execution_count": 43,
   "metadata": {},
   "outputs": [],
   "source": [
    "data_m = data1[data1['FBtr']=='FBtr0086860'].iloc[0][1:31].to_numpy()\n",
    "data_p = data2[data2['FBgn'] == 'FBgn0034264'].iloc[0][31:61].to_numpy()\n",
    "\n",
    "Y_m = data_m.astype(np.float64)\n",
    "Y_p = data_p.astype(np.float64)"
   ]
  },
  {
   "cell_type": "code",
   "execution_count": 44,
   "metadata": {},
   "outputs": [],
   "source": [
    "data_m = data1[data1['FBtr']=='FBtr0086860'].iloc[0][1:31].to_numpy()\n",
    "data_p = data2[data2['FBgn'] == 'FBgn0034264'].iloc[0][31:61].to_numpy()\n",
    "\n",
    "Y_m = data_m.astype(np.float64)\n",
    "Y_p = data_p.astype(np.float64)"
   ]
  },
  {
   "cell_type": "code",
   "execution_count": 53,
   "metadata": {
    "scrolled": true
   },
   "outputs": [
    {
     "data": {
      "text/plain": [
       "(0.4759236087818228, 0.41775879324943477)"
      ]
     },
     "execution_count": 53,
     "metadata": {},
     "output_type": "execute_result"
    }
   ],
   "source": [
    "stats.pearsonr(Y_m[25:30], Y_p[25:30])"
   ]
  },
  {
   "cell_type": "code",
   "execution_count": 46,
   "metadata": {},
   "outputs": [],
   "source": [
    "t0 = np.array((95.0,105.0,115.0,125.0,145.0,160.0,175.0,190.0,205.0,220.0))\n",
    "rep_no = 3\n",
    "t = np.hstack((t0,t0,t0))[:,None]"
   ]
  },
  {
   "cell_type": "code",
   "execution_count": 48,
   "metadata": {},
   "outputs": [
    {
     "data": {
      "text/plain": [
       "array([0.        , 0.        , 0.        , 0.        , 0.        ,\n",
       "       0.        , 0.        , 0.04557938, 0.        , 0.04267558,\n",
       "       0.        , 0.        , 0.        , 0.        , 0.        ,\n",
       "       0.        , 0.        , 0.02762285, 0.        , 0.0462261 ,\n",
       "       0.        , 0.        , 0.        , 0.        , 0.        ,\n",
       "       0.        , 0.        , 0.        , 0.02712014, 0.        ])"
      ]
     },
     "execution_count": 48,
     "metadata": {},
     "output_type": "execute_result"
    }
   ],
   "source": [
    "Y_p"
   ]
  },
  {
   "cell_type": "code",
   "execution_count": 47,
   "metadata": {},
   "outputs": [
    {
     "data": {
      "text/plain": [
       "[<matplotlib.lines.Line2D at 0x7fe978990b50>]"
      ]
     },
     "execution_count": 47,
     "metadata": {},
     "output_type": "execute_result"
    },
    {
     "data": {
      "image/png": "[encoded data removed]",
      "text/plain": [
       "<Figure size 864x432 with 2 Axes>"
      ]
     },
     "metadata": {
      "needs_background": "light"
     },
     "output_type": "display_data"
    }
   ],
   "source": [
    "# Plot predicted model\n",
    "fig, ax1 = plt.subplots(figsize=(12, 6))\n",
    "ax1.set_ylabel('mRNA', color='r')\n",
    "ax1.plot(t.flatten(), Y_m.flatten(), 'rx', mew=2)\n",
    "\n",
    "ax2 = ax1.twinx()\n",
    "ax2.set_ylabel('premRNA', color='b')\n",
    "ax2.plot(t.flatten(), Y_p.flatten(), 'bx', mew=2)\n"
   ]
  },
  {
   "cell_type": "code",
   "execution_count": 54,
   "metadata": {},
   "outputs": [],
   "source": [
    "res = pd.read_csv('filtered_genes_zygotic_tr_95_genes.csv',sep=\",\") #mrna"
   ]
  },
  {
   "cell_type": "code",
   "execution_count": 55,
   "metadata": {},
   "outputs": [],
   "source": [
    "#2 * (alt_log_likelihood - null_log_likelihood)\n",
    "def likelihood_ratio(ll_alt, ll_null):\n",
    "    return(2*(ll_alt-ll_null))"
   ]
  },
  {
   "cell_type": "code",
   "execution_count": 56,
   "metadata": {},
   "outputs": [
    {
     "name": "stdout",
     "output_type": "stream",
     "text": [
      "p: 1.000000000000000000000000000000\n"
     ]
    }
   ],
   "source": [
    "LR = likelihood_ratio(np.asarray(164.287227, dtype=np.float64),np.asarray(195.982348, dtype=np.float64))\n",
    "p = chi2.sf(LR, 1) # L2 has 1 DoF more than L1 (alt one more degree of freedome than null)\n",
    "print('p: %.30f' % p) "
   ]
  },
  {
   "cell_type": "code",
   "execution_count": 57,
   "metadata": {},
   "outputs": [],
   "source": [
    "#res = pd.read_csv('filtered_genes_unnormalized_data.csv',sep=\",\") #mrna"
   ]
  },
  {
   "cell_type": "code",
   "execution_count": 58,
   "metadata": {},
   "outputs": [
    {
     "data": {
      "text/html": [
       "<div>\n",
       "<style scoped>\n",
       "    .dataframe tbody tr th:only-of-type {\n",
       "        vertical-align: middle;\n",
       "    }\n",
       "\n",
       "    .dataframe tbody tr th {\n",
       "        vertical-align: top;\n",
       "    }\n",
       "\n",
       "    .dataframe thead th {\n",
       "        text-align: right;\n",
       "    }\n",
       "</style>\n",
       "<table border=\"1\" class=\"dataframe\">\n",
       "  <thead>\n",
       "    <tr style=\"text-align: right;\">\n",
       "      <th></th>\n",
       "      <th>genesID</th>\n",
       "      <th>trID</th>\n",
       "      <th>rbf_mrna</th>\n",
       "      <th>noise_mrna</th>\n",
       "      <th>loglik_ratio_mrna</th>\n",
       "      <th>rbf_premrna</th>\n",
       "      <th>noise_premrna</th>\n",
       "      <th>loglik_ratio_premrna</th>\n",
       "      <th>lengthscale_rbf_mrna</th>\n",
       "      <th>variance_rbf_mrna</th>\n",
       "      <th>variance_noise_mrna</th>\n",
       "      <th>lengthscale_rbf_premrna</th>\n",
       "      <th>variance_rbf_premrna</th>\n",
       "      <th>variance_noise_premrna</th>\n",
       "    </tr>\n",
       "  </thead>\n",
       "  <tbody>\n",
       "    <tr>\n",
       "      <td>0</td>\n",
       "      <td>FBgn0000071</td>\n",
       "      <td>FBtr0081619</td>\n",
       "      <td>164.287227</td>\n",
       "      <td>195.982348</td>\n",
       "      <td>-31.695121</td>\n",
       "      <td>-10.921879</td>\n",
       "      <td>0.907462</td>\n",
       "      <td>-11.829340</td>\n",
       "      <td>51.747545</td>\n",
       "      <td>0.047611</td>\n",
       "      <td>14905.936667</td>\n",
       "      <td>51.747545</td>\n",
       "      <td>0.047611</td>\n",
       "      <td>0.053885</td>\n",
       "    </tr>\n",
       "    <tr>\n",
       "      <td>1</td>\n",
       "      <td>FBgn0000071</td>\n",
       "      <td>FBtr0081620</td>\n",
       "      <td>113.795550</td>\n",
       "      <td>142.324536</td>\n",
       "      <td>-28.528986</td>\n",
       "      <td>-10.921879</td>\n",
       "      <td>0.907462</td>\n",
       "      <td>-11.829340</td>\n",
       "      <td>51.747545</td>\n",
       "      <td>0.047611</td>\n",
       "      <td>553.227396</td>\n",
       "      <td>51.747545</td>\n",
       "      <td>0.047611</td>\n",
       "      <td>0.053885</td>\n",
       "    </tr>\n",
       "    <tr>\n",
       "      <td>2</td>\n",
       "      <td>FBgn0000117</td>\n",
       "      <td>FBtr0332583</td>\n",
       "      <td>86.736700</td>\n",
       "      <td>108.248938</td>\n",
       "      <td>-21.512238</td>\n",
       "      <td>107.156143</td>\n",
       "      <td>135.805543</td>\n",
       "      <td>-28.649400</td>\n",
       "      <td>18.676153</td>\n",
       "      <td>355.634795</td>\n",
       "      <td>79.718306</td>\n",
       "      <td>18.676153</td>\n",
       "      <td>355.634795</td>\n",
       "      <td>410.863236</td>\n",
       "    </tr>\n",
       "    <tr>\n",
       "      <td>3</td>\n",
       "      <td>FBgn0000163</td>\n",
       "      <td>FBtr0343764</td>\n",
       "      <td>51.626557</td>\n",
       "      <td>79.896908</td>\n",
       "      <td>-28.270351</td>\n",
       "      <td>130.260617</td>\n",
       "      <td>155.990121</td>\n",
       "      <td>-25.729504</td>\n",
       "      <td>24.888503</td>\n",
       "      <td>1403.845124</td>\n",
       "      <td>12.035775</td>\n",
       "      <td>24.888503</td>\n",
       "      <td>1403.845124</td>\n",
       "      <td>1049.663981</td>\n",
       "    </tr>\n",
       "    <tr>\n",
       "      <td>4</td>\n",
       "      <td>FBgn0000180</td>\n",
       "      <td>FBtr0079929</td>\n",
       "      <td>132.034786</td>\n",
       "      <td>159.977112</td>\n",
       "      <td>-27.942326</td>\n",
       "      <td>129.983541</td>\n",
       "      <td>164.094539</td>\n",
       "      <td>-34.110998</td>\n",
       "      <td>28.437434</td>\n",
       "      <td>2795.601459</td>\n",
       "      <td>1573.559547</td>\n",
       "      <td>28.437434</td>\n",
       "      <td>2795.601459</td>\n",
       "      <td>1800.786996</td>\n",
       "    </tr>\n",
       "    <tr>\n",
       "      <td>...</td>\n",
       "      <td>...</td>\n",
       "      <td>...</td>\n",
       "      <td>...</td>\n",
       "      <td>...</td>\n",
       "      <td>...</td>\n",
       "      <td>...</td>\n",
       "      <td>...</td>\n",
       "      <td>...</td>\n",
       "      <td>...</td>\n",
       "      <td>...</td>\n",
       "      <td>...</td>\n",
       "      <td>...</td>\n",
       "      <td>...</td>\n",
       "      <td>...</td>\n",
       "    </tr>\n",
       "    <tr>\n",
       "      <td>552</td>\n",
       "      <td>FBgn0283521</td>\n",
       "      <td>FBtr0089344</td>\n",
       "      <td>107.682464</td>\n",
       "      <td>125.833441</td>\n",
       "      <td>-18.150977</td>\n",
       "      <td>152.150955</td>\n",
       "      <td>163.377029</td>\n",
       "      <td>-11.226073</td>\n",
       "      <td>0.058684</td>\n",
       "      <td>2517.629600</td>\n",
       "      <td>216.415424</td>\n",
       "      <td>0.058684</td>\n",
       "      <td>2517.629600</td>\n",
       "      <td>2386.159377</td>\n",
       "    </tr>\n",
       "    <tr>\n",
       "      <td>553</td>\n",
       "      <td>FBgn0283521</td>\n",
       "      <td>FBtr0089362</td>\n",
       "      <td>111.548018</td>\n",
       "      <td>132.176933</td>\n",
       "      <td>-20.628915</td>\n",
       "      <td>152.150955</td>\n",
       "      <td>163.377029</td>\n",
       "      <td>-11.226073</td>\n",
       "      <td>0.058684</td>\n",
       "      <td>2517.629600</td>\n",
       "      <td>312.588556</td>\n",
       "      <td>0.058684</td>\n",
       "      <td>2517.629600</td>\n",
       "      <td>2386.159377</td>\n",
       "    </tr>\n",
       "    <tr>\n",
       "      <td>554</td>\n",
       "      <td>FBgn0283741</td>\n",
       "      <td>FBtr0302655</td>\n",
       "      <td>59.340377</td>\n",
       "      <td>70.479563</td>\n",
       "      <td>-11.139186</td>\n",
       "      <td>168.585914</td>\n",
       "      <td>179.060444</td>\n",
       "      <td>-10.474530</td>\n",
       "      <td>0.060844</td>\n",
       "      <td>6988.626582</td>\n",
       "      <td>6.419256</td>\n",
       "      <td>0.060844</td>\n",
       "      <td>6988.626582</td>\n",
       "      <td>3861.756432</td>\n",
       "    </tr>\n",
       "    <tr>\n",
       "      <td>555</td>\n",
       "      <td>FBgn0283741</td>\n",
       "      <td>FBtr0332901</td>\n",
       "      <td>54.617081</td>\n",
       "      <td>69.012029</td>\n",
       "      <td>-14.394948</td>\n",
       "      <td>168.585914</td>\n",
       "      <td>179.060444</td>\n",
       "      <td>-10.474530</td>\n",
       "      <td>0.060844</td>\n",
       "      <td>6988.626582</td>\n",
       "      <td>5.820130</td>\n",
       "      <td>0.060844</td>\n",
       "      <td>6988.626582</td>\n",
       "      <td>3861.756432</td>\n",
       "    </tr>\n",
       "    <tr>\n",
       "      <td>556</td>\n",
       "      <td>FBgn0284084</td>\n",
       "      <td>FBtr0079432</td>\n",
       "      <td>105.173211</td>\n",
       "      <td>125.012986</td>\n",
       "      <td>-19.839775</td>\n",
       "      <td>85.470116</td>\n",
       "      <td>109.720848</td>\n",
       "      <td>-24.250732</td>\n",
       "      <td>0.058985</td>\n",
       "      <td>83.383917</td>\n",
       "      <td>222.243532</td>\n",
       "      <td>0.058985</td>\n",
       "      <td>83.383917</td>\n",
       "      <td>87.923699</td>\n",
       "    </tr>\n",
       "  </tbody>\n",
       "</table>\n",
       "<p>557 rows × 14 columns</p>\n",
       "</div>"
      ],
      "text/plain": [
       "         genesID         trID    rbf_mrna  noise_mrna  loglik_ratio_mrna  \\\n",
       "0    FBgn0000071  FBtr0081619  164.287227  195.982348         -31.695121   \n",
       "1    FBgn0000071  FBtr0081620  113.795550  142.324536         -28.528986   \n",
       "2    FBgn0000117  FBtr0332583   86.736700  108.248938         -21.512238   \n",
       "3    FBgn0000163  FBtr0343764   51.626557   79.896908         -28.270351   \n",
       "4    FBgn0000180  FBtr0079929  132.034786  159.977112         -27.942326   \n",
       "..           ...          ...         ...         ...                ...   \n",
       "552  FBgn0283521  FBtr0089344  107.682464  125.833441         -18.150977   \n",
       "553  FBgn0283521  FBtr0089362  111.548018  132.176933         -20.628915   \n",
       "554  FBgn0283741  FBtr0302655   59.340377   70.479563         -11.139186   \n",
       "555  FBgn0283741  FBtr0332901   54.617081   69.012029         -14.394948   \n",
       "556  FBgn0284084  FBtr0079432  105.173211  125.012986         -19.839775   \n",
       "\n",
       "     rbf_premrna  noise_premrna  loglik_ratio_premrna  lengthscale_rbf_mrna  \\\n",
       "0     -10.921879       0.907462            -11.829340             51.747545   \n",
       "1     -10.921879       0.907462            -11.829340             51.747545   \n",
       "2     107.156143     135.805543            -28.649400             18.676153   \n",
       "3     130.260617     155.990121            -25.729504             24.888503   \n",
       "4     129.983541     164.094539            -34.110998             28.437434   \n",
       "..           ...            ...                   ...                   ...   \n",
       "552   152.150955     163.377029            -11.226073              0.058684   \n",
       "553   152.150955     163.377029            -11.226073              0.058684   \n",
       "554   168.585914     179.060444            -10.474530              0.060844   \n",
       "555   168.585914     179.060444            -10.474530              0.060844   \n",
       "556    85.470116     109.720848            -24.250732              0.058985   \n",
       "\n",
       "     variance_rbf_mrna  variance_noise_mrna  lengthscale_rbf_premrna  \\\n",
       "0             0.047611         14905.936667                51.747545   \n",
       "1             0.047611           553.227396                51.747545   \n",
       "2           355.634795            79.718306                18.676153   \n",
       "3          1403.845124            12.035775                24.888503   \n",
       "4          2795.601459          1573.559547                28.437434   \n",
       "..                 ...                  ...                      ...   \n",
       "552        2517.629600           216.415424                 0.058684   \n",
       "553        2517.629600           312.588556                 0.058684   \n",
       "554        6988.626582             6.419256                 0.060844   \n",
       "555        6988.626582             5.820130                 0.060844   \n",
       "556          83.383917           222.243532                 0.058985   \n",
       "\n",
       "     variance_rbf_premrna  variance_noise_premrna  \n",
       "0                0.047611                0.053885  \n",
       "1                0.047611                0.053885  \n",
       "2              355.634795              410.863236  \n",
       "3             1403.845124             1049.663981  \n",
       "4             2795.601459             1800.786996  \n",
       "..                    ...                     ...  \n",
       "552           2517.629600             2386.159377  \n",
       "553           2517.629600             2386.159377  \n",
       "554           6988.626582             3861.756432  \n",
       "555           6988.626582             3861.756432  \n",
       "556             83.383917               87.923699  \n",
       "\n",
       "[557 rows x 14 columns]"
      ]
     },
     "execution_count": 58,
     "metadata": {},
     "output_type": "execute_result"
    }
   ],
   "source": [
    "res"
   ]
  },
  {
   "cell_type": "code",
   "execution_count": 59,
   "metadata": {},
   "outputs": [],
   "source": [
    "genes = []\n",
    "transcripts = []"
   ]
  },
  {
   "cell_type": "code",
   "execution_count": 60,
   "metadata": {},
   "outputs": [
    {
     "ename": "NameError",
     "evalue": "name 'i' is not defined",
     "output_type": "error",
     "traceback": [
      "\u001b[0;31m---------------------------------------------------------------------------\u001b[0m",
      "\u001b[0;31mNameError\u001b[0m                                 Traceback (most recent call last)",
      "\u001b[0;32m<ipython-input-60-3d3bbb0ba29f>\u001b[0m in \u001b[0;36m<module>\u001b[0;34m\u001b[0m\n\u001b[0;32m----> 1\u001b[0;31m \u001b[0mres\u001b[0m\u001b[0;34m[\u001b[0m\u001b[0;34m'loglik_ratio_mrna'\u001b[0m\u001b[0;34m]\u001b[0m\u001b[0;34m.\u001b[0m\u001b[0miloc\u001b[0m\u001b[0;34m[\u001b[0m\u001b[0mi\u001b[0m\u001b[0;34m]\u001b[0m\u001b[0;34m>\u001b[0m\u001b[0;36m20\u001b[0m\u001b[0;34m\u001b[0m\u001b[0;34m\u001b[0m\u001b[0m\n\u001b[0m",
      "\u001b[0;31mNameError\u001b[0m: name 'i' is not defined"
     ]
    }
   ],
   "source": [
    "res['loglik_ratio_mrna'].iloc[i]>20 "
   ]
  },
  {
   "cell_type": "code",
   "execution_count": 69,
   "metadata": {},
   "outputs": [
    {
     "name": "stdout",
     "output_type": "stream",
     "text": [
      "FBgn0032170\n",
      "FBtr0343739\n",
      "p: 0.173656689855148232970449839740\n",
      "FBgn0035397\n",
      "FBtr0072998\n",
      "p: 0.137481437723125488048481201986\n",
      "FBgn0037550\n",
      "FBtr0339725\n",
      "p: 0.290261139365475928642013059289\n",
      "FBgn0050163\n",
      "FBtr0343491\n",
      "p: 0.070079099849051959547630019642\n",
      "FBgn0051485\n",
      "FBtr0081662\n",
      "p: 0.256853236790860750549114754904\n",
      "FBgn0261822\n",
      "FBtr0079573\n",
      "p: 0.095172757756125117567513882477\n"
     ]
    }
   ],
   "source": [
    "for i in range(0,557):\n",
    "    LR = likelihood_ratio(-np.asarray(res['rbf_mrna'].iloc[i], dtype=np.float64),-np.asarray(res['noise_mrna'].iloc[i], dtype=np.float64))\n",
    "    p = chi2.sf(LR, 1) # L2 has 1 DoF more than L1\n",
    "    if(p>0.05):\n",
    "        print(res['genesID'].iloc[i])\n",
    "        print(res['trID'].iloc[i])\n",
    "        print('p: %.30f' % p) \n",
    "    if(res['loglik_ratio_mrna'].iloc[i]>20 and res['loglik_ratio_premrna'].iloc[i]>20):\n",
    "        genes.append(res['genesID'].iloc[i])\n",
    "        transcripts.append(res['trID'].iloc[i])"
   ]
  },
  {
   "cell_type": "code",
   "execution_count": 16,
   "metadata": {},
   "outputs": [
    {
     "data": {
      "text/plain": [
       "[]"
      ]
     },
     "execution_count": 16,
     "metadata": {},
     "output_type": "execute_result"
    }
   ],
   "source": [
    "genes"
   ]
  },
  {
   "cell_type": "code",
   "execution_count": 35,
   "metadata": {},
   "outputs": [],
   "source": [
    "for i in range(0,249):\n",
    "    if(res_Nuha_mrna['log_likelihood_ratio'].iloc[i]>20 and res_Nuha_premrna['log_likelihood_ratio'].iloc[i]>20):        \n",
    "        genes_Nuha.append(res_Nuha_mrna['GeneID'].iloc[i])       "
   ]
  },
  {
   "cell_type": "code",
   "execution_count": 36,
   "metadata": {},
   "outputs": [],
   "source": [
    "for i in range(0,249):\n",
    "    if(res['loglik_ratio_mrna'].iloc[i]>20 and res['loglik_ratio_premrna'].iloc[i]>20):\n",
    "        genes_Yuliya.append(res['genesID'].iloc[i])"
   ]
  },
  {
   "cell_type": "code",
   "execution_count": 43,
   "metadata": {},
   "outputs": [],
   "source": [
    "genes_Yuliya = pd.DataFrame(np.asarray(genes_Yuliya))\n",
    "genes_Nuha = pd.DataFrame(np.asarray(genes_Nuha))"
   ]
  },
  {
   "cell_type": "code",
   "execution_count": 47,
   "metadata": {},
   "outputs": [],
   "source": [
    "genes_Yuliya.columns = ['Name']\n",
    "genes_Nuha.columns = ['Name']"
   ]
  },
  {
   "cell_type": "code",
   "execution_count": 48,
   "metadata": {},
   "outputs": [],
   "source": [
    "genes_Yuliya.to_csv('genes_Yuliya.csv',index=False)\n",
    "genes_Nuha.to_csv('genes_Nuha.csv',index=False)"
   ]
  },
  {
   "cell_type": "code",
   "execution_count": null,
   "metadata": {},
   "outputs": [],
   "source": []
  }
 ],
 "metadata": {
  "kernelspec": {
   "display_name": "Python 3",
   "language": "python",
   "name": "python3"
  },
  "language_info": {
   "codemirror_mode": {
    "name": "ipython",
    "version": 3
   },
   "file_extension": ".py",
   "mimetype": "text/x-python",
   "name": "python",
   "nbconvert_exporter": "python",
   "pygments_lexer": "ipython3",
   "version": "3.6.10"
  }
 },
 "nbformat": 4,
 "nbformat_minor": 2
}
