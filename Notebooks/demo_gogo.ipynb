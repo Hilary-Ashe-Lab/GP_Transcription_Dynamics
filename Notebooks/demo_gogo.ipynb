{
 "cells": [
  {
   "cell_type": "code",
   "execution_count": 164,
   "metadata": {},
   "outputs": [],
   "source": [
    "from typing import Tuple, TypeVar\n",
    "import numpy as np\n",
    "from scipy import stats\n",
    "import pandas as pd\n",
    "import tensorflow as tf\n",
    "import tensorflow_probability as tfp\n",
    "import matplotlib.pyplot as plt\n",
    "import gpflow\n",
    "from gpflow.utilities import print_summary\n",
    "from utilities_dpp import (HMCParameters,create_mala_mcmc, load_single_gene_normalized, create_data, load_data, load_single_gene, load_filtered_data, create_standard_mcmc, create_trcd_model, create_premRNA_model,\n",
    "                       optimize_with_scipy_optimizer, optimize_premRNA, fit_rbf, predict_trcd,\n",
    "                       plot_trcd_predict, plot_premRNA_predict, select_parameters, optimize_premRNA, init_hyperparameters)\n",
    "import pymc3\n",
    "from typing import Callable, List, TypeVar\n",
    "from trcd.utils import SamplingHelper\n",
    "gpflow.config.set_default_float(np.float64)  \n",
    "\n",
    "Scalar = TypeVar(\"Scalar\", tf.Tensor, float)\n",
    "FullData = Tuple[tf.Tensor, tf.Tensor]\n",
    "Observations = Tuple[tf.Tensor, tf.Tensor, tf.Tensor]\n",
    "\n",
    "np.random.seed(100)\n",
    "tf.random.set_seed(100)"
   ]
  },
  {
   "cell_type": "code",
   "execution_count": 165,
   "metadata": {},
   "outputs": [],
   "source": [
    "def run_mcmc(run_chain_fn: Callable,\n",
    "             hmc_helper: SamplingHelper,\n",
    "             step_size: Scalar):\n",
    "    # The `traces` object (it can be a tuple or a namedtuple) contains infromation about `log_prob`     values,\n",
    "    # accept ratios and etc. E.g. you can get `traces.accepted_results.target_log_prob`.\n",
    "\n",
    "    unconstrained_samples, traces = run_chain_fn(step_size)\n",
    "    constrained_samples = hmc_helper.convert_to_constrained_values(*unconstrained_samples)\n",
    "\n",
    "    # NOTE: not used, but useful\n",
    "    # def assign_unconstrained_sample(index, helper, samples):\n",
    "    #     subsample = [values[index] for values in samples]\n",
    "    #     helper.assign_values(*subsample)\n",
    "\n",
    "    if isinstance(traces.inner_results, tfp.mcmc.nuts.NUTSKernelResults):\n",
    "        accept_log_probs = traces.inner_results.target_log_prob\n",
    "        grads = traces.inner_results.grads_target_log_prob\n",
    "    else:\n",
    "        accept_log_probs = traces.inner_results.accepted_results.target_log_prob\n",
    "        grads = traces.inner_results.accepted_results.grads_target_log_prob\n",
    "    return unconstrained_samples, constrained_samples, accept_log_probs, grads\n",
    "\n",
    "def run_mala(run_chain_fn: Callable,\n",
    "             hmc_helper: SamplingHelper,\n",
    "             step_size: Scalar):\n",
    "    # The `traces` object (it can be a tuple or a namedtuple) contains infromation about `log_prob`     values,\n",
    "    # accept ratios and etc. E.g. you can get `traces.accepted_results.target_log_prob`.\n",
    "\n",
    "    unconstrained_samples = run_chain_fn(step_size)\n",
    "    #print(unconstrained_samples)\n",
    "    constrained_samples = hmc_helper.convert_to_constrained_values(*unconstrained_samples)\n",
    "\n",
    "    # NOTE: not used, but useful\n",
    "    # def assign_unconstrained_sample(index, helper, samples):\n",
    "    #     subsample = [values[index] for values in samples]\n",
    "    #     helper.assign_values(*subsample)\n",
    "\n",
    "    #if isinstance(traces.inner_results, tfp.mcmc.nuts.NUTSKernelResults):\n",
    "    #    accept_log_probs = traces.inner_results.target_log_prob\n",
    "    #    grads = traces.inner_results.grads_target_log_prob\n",
    "    #else:\n",
    "    #    accept_log_probs = traces.inner_results.accepted_results.target_log_prob\n",
    "    #    grads = traces.inner_results.accepted_results.grads_target_log_prob\n",
    "    return unconstrained_samples, constrained_samples#, accept_log_probs, grads\n",
    "\n",
    "\n",
    "def analyse_samples(gene_id, tr_id, step_size,parameters_vector , unconstrained_samples: List[tf.Tensor],\n",
    "                    constrained_samples: List[tf.Tensor],\n",
    "                    #accept_log_prob: List[tf.Tensor],\n",
    "                    #grads: List[tf.Tensor],\n",
    "                    dict_parameters: dict = None,\n",
    "                    pathname: str = None):\n",
    "    \"\"\"\n",
    "    Plotting and saving graphs on disk.\n",
    "    \"\"\"\n",
    "    path = Path(pathname)\n",
    "    path.mkdir(exist_ok=True, parents=True)\n",
    "\n",
    "    parameter_names = list(dict_parameters.keys())\n",
    "    num_parameters = len(parameter_names)\n",
    "\n",
    "    num_samples = constrained_samples[0].shape[0]\n",
    "    x = list(range(num_samples))\n",
    "    figsize = (30, 20)\n",
    "    fig, axes = plt.subplots(num_parameters, 2, figsize=figsize)\n",
    "\n",
    "    for i in range(num_parameters):\n",
    "        axes[i][0].plot(x, constrained_samples[i])\n",
    "        axes[i][1].hist(constrained_samples[i], bins='auto', alpha=0.7, rwidth=0.95)\n",
    "        axes[i][0].title.set_text(parameter_names[i])\n",
    "\n",
    "    #plt.show()\n",
    "    plt.savefig(f'{pathname}/'+str(gene_id)+'_'+str(tr_id)+str(step_size)+'_traces.png')\n",
    "\n",
    "    res = np.zeros((num_parameters, 2))\n",
    "    for i in range(num_parameters):\n",
    "        hpd = pymc3.stats.hpd(np.asarray(constrained_samples[i]))\n",
    "        res[i,0] = hpd[0]\n",
    "        res[i,1] = hpd[1]\n",
    "    print(res)\n",
    "\n",
    "    res = np.concatenate((np.array(parameter_names).reshape(-1,1), np.array(parameters_vector).reshape(-1,1), res), axis=1)\n",
    "\n",
    "    print(parameter_names)\n",
    "    df = pd.DataFrame(res)\n",
    "    #print(df)\n",
    "\n",
    "    df.columns = ['parameter','MAP','hpd_l', 'hpd_u']\n",
    "\n",
    "    print(df)\n",
    "    df.to_csv(f'{pathname}/hpd'+str(gene_id)+'_'+str(tr_id)+str(step_size)+'.csv')\n",
    "\n",
    "\n",
    "def experiment_print(step: int, msg: str):\n",
    "    tf.print(f\"# [Step {step}] {msg}\")\n",
    "\n",
    "\n",
    "def reset_parameters(parameters: List[gpflow.Parameter], values: List[tf.Tensor]):\n",
    "    for p, v in zip(parameters, values):\n",
    "        p.assign(v)\n",
    "\n",
    "    \n"
   ]
  },
  {
   "cell_type": "markdown",
   "metadata": {},
   "source": [
    "## Load the data"
   ]
  },
  {
   "cell_type": "code",
   "execution_count": 166,
   "metadata": {},
   "outputs": [],
   "source": [
    "data1 = pd.read_csv('LB_GP_TS.csv', sep=\",\")\n",
    "data2 = pd.read_csv('Exon_intron_counts_data_normalizedbylibrarydepthonly_20200120.txt',sep=\" \")\n",
    "names_transcripts =  pd.read_csv('zygotic_tr_95_genes.csv', sep=\";\")\n",
    "\n",
    "t0 = np.array((95.0,105.0,115.0,125.0,145.0,160.0,175.0,190.0,205.0,220.0))\n",
    "rep_no = 3\n",
    "t = np.hstack((t0,t0,t0))[:,None]\n",
    "t0 = np.array((95.0,105.0,115.0,125.0,145.0,160.0,175.0,190.0,205.0,220.0))"
   ]
  },
  {
   "cell_type": "markdown",
   "metadata": {},
   "source": [
    "## The gene we are interested in"
   ]
  },
  {
   "cell_type": "code",
   "execution_count": 167,
   "metadata": {},
   "outputs": [],
   "source": [
    "'''\n",
    "Gene and transcripts id\n",
    "'''\n",
    "gene_id = 'FBgn0052227'\n",
    "tr_id = 'FBtr0074848'"
   ]
  },
  {
   "cell_type": "code",
   "execution_count": 168,
   "metadata": {},
   "outputs": [],
   "source": [
    "data, observations, gene_id, data_p, observations_p = load_single_gene(gene_id, tr_id)"
   ]
  },
  {
   "cell_type": "markdown",
   "metadata": {},
   "source": [
    "## New normalization"
   ]
  },
  {
   "cell_type": "markdown",
   "metadata": {},
   "source": [
    "mRNA per cell: 122.77; mRNA per TS 16.97; embryo age 175. "
   ]
  },
  {
   "cell_type": "code",
   "execution_count": 169,
   "metadata": {},
   "outputs": [],
   "source": [
    "norm_m = 122.77\n",
    "norm_p = 16.97\n",
    "time_indexes = np.array([np.where(t == 160)[0],np.where(t == 175)[0],np.where(t == 190)[0]]).flatten()"
   ]
  },
  {
   "cell_type": "code",
   "execution_count": 170,
   "metadata": {},
   "outputs": [],
   "source": [
    "data, observations, gene_id, data_p, observations_p = load_single_gene_normalized(gene_id, tr_id, time_indexes, norm_m, norm_p)"
   ]
  },
  {
   "cell_type": "code",
   "execution_count": 171,
   "metadata": {},
   "outputs": [],
   "source": [
    "#data, observations, gene_id, data_p, observations_p = load_single_gene(gene_id, tr_id, time_indexes, norm_m, norm_p)\n",
    "data_orig, observations_orig, gene_id_orig, data_p_orig, observations_p_orig = load_single_gene(gene_id, tr_id)"
   ]
  },
  {
   "cell_type": "markdown",
   "metadata": {},
   "source": [
    "## Create and optimize model with fixed S = 1"
   ]
  },
  {
   "cell_type": "code",
   "execution_count": 172,
   "metadata": {},
   "outputs": [
    {
     "name": "stdout",
     "output_type": "stream",
     "text": [
      "Step 0 loss=964.2059397346114\n",
      "Step 10 loss=335.28428463957636\n"
     ]
    }
   ],
   "source": [
    "initial_lengthscale = 10.0\n",
    "initial_variance = 1.00\n",
    "initial_S = 1.0\n",
    "\n",
    "trcd, dict_parameters = create_trcd_model(data, initial_lengthscale, initial_variance, initial_S, transform_base=None)\n",
    "#dict_parameters = select_parameters(dict_parameters,\n",
    "#                                    names=None)  # When `names` is None, same dictionary is returned.\n",
    "trcd.model.kernel.D.assign(0.4)\n",
    "dict_parameters = select_parameters(dict_parameters,\n",
    "                                    names=['D','variance','lengthscale','variance_m', 'variance_p'])  # When `names` is None, same dictionary is returned.\n",
    "\n",
    "# NOTE: WARNING! The order of parameters is quite important here,\n",
    "# as we pass them around and use same order for plotting and setting titles for plots.\n",
    "# For that reason we use ordered dictionary.\n",
    "parameters = list(dict_parameters.values())\n",
    "# NOTE: Updates TRCD model parameters in place!\n",
    "res = optimize_with_scipy_optimizer(trcd, parameters)\n",
    "  "
   ]
  },
  {
   "cell_type": "code",
   "execution_count": 173,
   "metadata": {
    "scrolled": false
   },
   "outputs": [
    {
     "name": "stdout",
     "output_type": "stream",
     "text": [
      "╒══════════════════════════════════╤═══════════╤══════════════════╤═════════╤═════════════╤═════════╤═════════╤═════════════╕\n",
      "│ name                             │ class     │ transform        │ prior   │ trainable   │ shape   │ dtype   │       value │\n",
      "╞══════════════════════════════════╪═══════════╪══════════════════╪═════════╪═════════════╪═════════╪═════════╪═════════════╡\n",
      "│ TRCD.D                           │ Parameter │ Softplus + Shift │ Gamma   │ True        │ ()      │ float64 │  0.00533508 │\n",
      "│ TRCD.model.kernel.D              │           │                  │         │             │         │         │             │\n",
      "├──────────────────────────────────┼───────────┼──────────────────┼─────────┼─────────────┼─────────┼─────────┼─────────────┤\n",
      "│ TRCD.model.kernel.S              │ Parameter │ Softplus + Shift │ Gamma   │ True        │ ()      │ float64 │  1          │\n",
      "├──────────────────────────────────┼───────────┼──────────────────┼─────────┼─────────────┼─────────┼─────────┼─────────────┤\n",
      "│ TRCD.model.kernel.variance       │ Parameter │ Softplus + Shift │ Gamma   │ True        │ ()      │ float64 │ 24.5658     │\n",
      "├──────────────────────────────────┼───────────┼──────────────────┼─────────┼─────────────┼─────────┼─────────┼─────────────┤\n",
      "│ TRCD.model.kernel.lengthscale    │ Parameter │ Softplus + Shift │ Gamma   │ True        │ ()      │ float64 │ 15.5445     │\n",
      "├──────────────────────────────────┼───────────┼──────────────────┼─────────┼─────────────┼─────────┼─────────┼─────────────┤\n",
      "│ TRCD.model.likelihood.variance_m │ Parameter │ Softplus + Shift │ Gamma   │ True        │ ()      │ float64 │ 40.5257     │\n",
      "├──────────────────────────────────┼───────────┼──────────────────┼─────────┼─────────────┼─────────┼─────────┼─────────────┤\n",
      "│ TRCD.model.likelihood.variance_p │ Parameter │ Softplus + Shift │ Gamma   │ True        │ ()      │ float64 │  3.60014    │\n",
      "╘══════════════════════════════════╧═══════════╧══════════════════╧═════════╧═════════════╧═════════╧═════════╧═════════════╛\n"
     ]
    }
   ],
   "source": [
    "print_summary(trcd)"
   ]
  },
  {
   "cell_type": "markdown",
   "metadata": {},
   "source": [
    "#### half-life"
   ]
  },
  {
   "cell_type": "code",
   "execution_count": 174,
   "metadata": {},
   "outputs": [
    {
     "data": {
      "text/plain": [
       "129.92264077934894"
      ]
     },
     "execution_count": 174,
     "metadata": {},
     "output_type": "execute_result"
    }
   ],
   "source": [
    "np.log(2)/np.asarray(trcd.model.kernel.D.value())"
   ]
  },
  {
   "cell_type": "code",
   "execution_count": 175,
   "metadata": {
    "scrolled": true
   },
   "outputs": [
    {
     "name": "stdout",
     "output_type": "stream",
     "text": [
      "predicted y failed, predicted f\n"
     ]
    },
    {
     "data": {
      "image/png": "[encoded data removed]",
      "text/plain": [
       "<Figure size 864x432 with 2 Axes>"
      ]
     },
     "metadata": {
      "needs_background": "light"
     },
     "output_type": "display_data"
    }
   ],
   "source": [
    "variance_m = np.asarray(trcd.model.likelihood.variance_m.value())\n",
    "variance_p = np.asarray(trcd.model.likelihood.variance_p.value())\n",
    "plot_trcd_predict(1, trcd, tr_id, gene_id, observations, variance_m, variance_p)"
   ]
  },
  {
   "cell_type": "markdown",
   "metadata": {},
   "source": [
    "### Run MCMC"
   ]
  },
  {
   "cell_type": "code",
   "execution_count": 184,
   "metadata": {},
   "outputs": [],
   "source": [
    "#parameters = list(dict_parameters.values())\n",
    "#parameters"
   ]
  },
  {
   "cell_type": "code",
   "execution_count": 185,
   "metadata": {},
   "outputs": [],
   "source": [
    "#parameters_vector = tf.stack(parameters)\n",
    "#parameters_vector"
   ]
  },
  {
   "cell_type": "code",
   "execution_count": 181,
   "metadata": {},
   "outputs": [],
   "source": [
    "# np.random.seed(100)\n",
    "# tf.random.set_seed(100)\n",
    "# from pathlib import Path\n",
    "# #pathname = f\"different gene results mala-{step_size}\"\n",
    "# parameters_vector = tf.stack(parameters)\n",
    "# hmc_parameters = HMCParameters(num_samples=1000, num_burnin_steps=1000)\n",
    "# hmc_helper, run_chain = create_mala_mcmc(trcd, parameters, hmc_parameters)\n",
    "# gpflow.config.set_default_positive_minimum(1e-6)\n",
    "# #print(step_size_mala)\n",
    "# step_size_mala = np.array([ 10**-5 , 10**-4 , 10**-3 , 0.003, 0.005, 0.01, 0.03, 0.05, 0.07, 0.1, 0.15, 0.2, 0.25, 0.3, 0.35, 0.5, 1])\n",
    "# for j in range(step_size_mala.shape[0]):\n",
    "#     step_size = step_size_mala[j]\n",
    "\n",
    "#     try:\n",
    "#         experiment_print(j, \"Run MCMC\")\n",
    "#         #num_leapfrog, step_size = leapfrog_num_and_step_size[j]\n",
    "#         pathname = f\"different gene results mala-{step_size}\"\n",
    "#         experiment_print(j, f\"Save results at '{pathname}'\")\n",
    "\n",
    "#         samples = run_mala(run_chain,\n",
    "#                                hmc_helper,\n",
    "#                                step_size=step_size_mala[j])\n",
    "#         analyse_samples(gene_id, tr_id, step_size, parameters_vector, *samples, dict_parameters=dict_parameters, pathname=pathname)\n",
    "#             #reset_parameters(parameters, initial_values)\n",
    "#         experiment_print(j, f\"MCMC finished\")\n",
    "#     except:\n",
    "#         print('Experiment error')"
   ]
  },
  {
   "cell_type": "code",
   "execution_count": 179,
   "metadata": {},
   "outputs": [],
   "source": [
    "pathname = f\"different gene results mala-{0.05}\"\n",
    "df = pd.read_csv(f'{pathname}/hpd'+str(gene_id)+'_'+str(tr_id)+'0.05'+'.csv')"
   ]
  },
  {
   "cell_type": "code",
   "execution_count": 180,
   "metadata": {},
   "outputs": [
    {
     "data": {
      "text/html": [
       "<div>\n",
       "<style scoped>\n",
       "    .dataframe tbody tr th:only-of-type {\n",
       "        vertical-align: middle;\n",
       "    }\n",
       "\n",
       "    .dataframe tbody tr th {\n",
       "        vertical-align: top;\n",
       "    }\n",
       "\n",
       "    .dataframe thead th {\n",
       "        text-align: right;\n",
       "    }\n",
       "</style>\n",
       "<table border=\"1\" class=\"dataframe\">\n",
       "  <thead>\n",
       "    <tr style=\"text-align: right;\">\n",
       "      <th></th>\n",
       "      <th>Unnamed: 0</th>\n",
       "      <th>parameter</th>\n",
       "      <th>MAP</th>\n",
       "      <th>hpd_l</th>\n",
       "      <th>hpd_u</th>\n",
       "    </tr>\n",
       "  </thead>\n",
       "  <tbody>\n",
       "    <tr>\n",
       "      <th>0</th>\n",
       "      <td>0</td>\n",
       "      <td>D</td>\n",
       "      <td>0.005335</td>\n",
       "      <td>0.000002</td>\n",
       "      <td>0.009881</td>\n",
       "    </tr>\n",
       "    <tr>\n",
       "      <th>1</th>\n",
       "      <td>1</td>\n",
       "      <td>variance</td>\n",
       "      <td>24.565751</td>\n",
       "      <td>23.243225</td>\n",
       "      <td>25.894587</td>\n",
       "    </tr>\n",
       "    <tr>\n",
       "      <th>2</th>\n",
       "      <td>2</td>\n",
       "      <td>lengthscale</td>\n",
       "      <td>15.544531</td>\n",
       "      <td>13.598129</td>\n",
       "      <td>17.629224</td>\n",
       "    </tr>\n",
       "    <tr>\n",
       "      <th>3</th>\n",
       "      <td>3</td>\n",
       "      <td>variance_m</td>\n",
       "      <td>40.525665</td>\n",
       "      <td>38.898004</td>\n",
       "      <td>42.183924</td>\n",
       "    </tr>\n",
       "    <tr>\n",
       "      <th>4</th>\n",
       "      <td>4</td>\n",
       "      <td>variance_p</td>\n",
       "      <td>3.600137</td>\n",
       "      <td>3.135913</td>\n",
       "      <td>4.104357</td>\n",
       "    </tr>\n",
       "  </tbody>\n",
       "</table>\n",
       "</div>"
      ],
      "text/plain": [
       "   Unnamed: 0    parameter        MAP      hpd_l      hpd_u\n",
       "0           0            D   0.005335   0.000002   0.009881\n",
       "1           1     variance  24.565751  23.243225  25.894587\n",
       "2           2  lengthscale  15.544531  13.598129  17.629224\n",
       "3           3   variance_m  40.525665  38.898004  42.183924\n",
       "4           4   variance_p   3.600137   3.135913   4.104357"
      ]
     },
     "execution_count": 180,
     "metadata": {},
     "output_type": "execute_result"
    }
   ],
   "source": [
    "df"
   ]
  },
  {
   "cell_type": "markdown",
   "metadata": {},
   "source": [
    "### half-life HPD"
   ]
  },
  {
   "cell_type": "code",
   "execution_count": 182,
   "metadata": {},
   "outputs": [
    {
     "data": {
      "text/plain": [
       "inf"
      ]
     },
     "execution_count": 182,
     "metadata": {},
     "output_type": "execute_result"
    }
   ],
   "source": [
    "np.log(2)/np.asarray(0.0000)"
   ]
  },
  {
   "cell_type": "code",
   "execution_count": 183,
   "metadata": {},
   "outputs": [
    {
     "data": {
      "text/plain": [
       "70.14949707114111"
      ]
     },
     "execution_count": 183,
     "metadata": {},
     "output_type": "execute_result"
    }
   ],
   "source": [
    "np.log(2)/np.asarray(0.009881)"
   ]
  },
  {
   "cell_type": "code",
   "execution_count": null,
   "metadata": {},
   "outputs": [],
   "source": []
  },
  {
   "cell_type": "code",
   "execution_count": null,
   "metadata": {},
   "outputs": [],
   "source": []
  },
  {
   "cell_type": "markdown",
   "metadata": {},
   "source": [
    "## Original data"
   ]
  },
  {
   "cell_type": "code",
   "execution_count": 35,
   "metadata": {},
   "outputs": [
    {
     "name": "stdout",
     "output_type": "stream",
     "text": [
      "Step 0 loss=326.27737426423806\n",
      "Step 10 loss=289.3153301641569\n",
      "Step 20 loss=289.29130005524223\n"
     ]
    }
   ],
   "source": [
    "initial_lengthscale = 10.0\n",
    "initial_variance = 1.00\n",
    "initial_S = 1.0\n",
    "\n",
    "trcd, dict_parameters = create_trcd_model(data_orig, initial_lengthscale, initial_variance, initial_S, transform_base=None)\n",
    "dict_parameters = select_parameters(dict_parameters,\n",
    "                                    names=None)  # When `names` is None, same dictionary is returned.\n",
    "trcd.model.kernel.D.assign(0.4)\n",
    "#dict_parameters = select_parameters(dict_parameters,\n",
    "#                                    names=['D','variance','lengthscale','variance_m', 'variance_p'])  # When `names` is None, same dictionary is returned.\n",
    "\n",
    "# NOTE: WARNING! The order of parameters is quite important here,\n",
    "# as we pass them around and use same order for plotting and setting titles for plots.\n",
    "# For that reason we use ordered dictionary.\n",
    "parameters = list(dict_parameters.values())\n",
    "# NOTE: Updates TRCD model parameters in place!\n",
    "res = optimize_with_scipy_optimizer(trcd, parameters)\n",
    "  "
   ]
  },
  {
   "cell_type": "code",
   "execution_count": 36,
   "metadata": {
    "scrolled": false
   },
   "outputs": [
    {
     "name": "stdout",
     "output_type": "stream",
     "text": [
      "╒══════════════════════════════════╤═══════════╤═════════════╤═════════╤═════════════╤═════════╤═════════╤════════════╕\n",
      "│ name                             │ class     │ transform   │ prior   │ trainable   │ shape   │ dtype   │      value │\n",
      "╞══════════════════════════════════╪═══════════╪═════════════╪═════════╪═════════════╪═════════╪═════════╪════════════╡\n",
      "│ TRCD.D                           │ Parameter │ Softplus    │ Gamma   │ True        │ ()      │ float64 │   0.023169 │\n",
      "│ TRCD.model.kernel.D              │           │             │         │             │         │         │            │\n",
      "├──────────────────────────────────┼───────────┼─────────────┼─────────┼─────────────┼─────────┼─────────┼────────────┤\n",
      "│ TRCD.model.kernel.S              │ Parameter │ Softplus    │ Gamma   │ True        │ ()      │ float64 │   0.362199 │\n",
      "├──────────────────────────────────┼───────────┼─────────────┼─────────┼─────────────┼─────────┼─────────┼────────────┤\n",
      "│ TRCD.model.kernel.variance       │ Parameter │ Softplus    │ Gamma   │ True        │ ()      │ float64 │ 110.924    │\n",
      "├──────────────────────────────────┼───────────┼─────────────┼─────────┼─────────────┼─────────┼─────────┼────────────┤\n",
      "│ TRCD.model.kernel.lengthscale    │ Parameter │ Softplus    │ Gamma   │ True        │ ()      │ float64 │  15.802    │\n",
      "├──────────────────────────────────┼───────────┼─────────────┼─────────┼─────────────┼─────────┼─────────┼────────────┤\n",
      "│ TRCD.model.likelihood.variance_m │ Parameter │ Softplus    │ Gamma   │ True        │ ()      │ float64 │   5.67728  │\n",
      "├──────────────────────────────────┼───────────┼─────────────┼─────────┼─────────────┼─────────┼─────────┼────────────┤\n",
      "│ TRCD.model.likelihood.variance_p │ Parameter │ Softplus    │ Gamma   │ True        │ ()      │ float64 │  16.9714   │\n",
      "╘══════════════════════════════════╧═══════════╧═════════════╧═════════╧═════════════╧═════════╧═════════╧════════════╛\n"
     ]
    }
   ],
   "source": [
    "print_summary(trcd)"
   ]
  },
  {
   "cell_type": "markdown",
   "metadata": {},
   "source": [
    "### half-life"
   ]
  },
  {
   "cell_type": "code",
   "execution_count": 37,
   "metadata": {},
   "outputs": [
    {
     "data": {
      "text/plain": [
       "29.917017371480387"
      ]
     },
     "execution_count": 37,
     "metadata": {},
     "output_type": "execute_result"
    }
   ],
   "source": [
    "np.log(2)/np.asarray(trcd.model.kernel.D.value())"
   ]
  },
  {
   "cell_type": "code",
   "execution_count": 38,
   "metadata": {},
   "outputs": [
    {
     "name": "stdout",
     "output_type": "stream",
     "text": [
      "predicted y failed, predicted f\n"
     ]
    },
    {
     "data": {
      "image/png": "[encoded data removed]",
      "text/plain": [
       "<Figure size 864x432 with 2 Axes>"
      ]
     },
     "metadata": {
      "needs_background": "light"
     },
     "output_type": "display_data"
    }
   ],
   "source": [
    "variance_m = np.asarray(trcd.model.likelihood.variance_m.value())\n",
    "variance_p = np.asarray(trcd.model.likelihood.variance_p.value())\n",
    "plot_trcd_predict(1, trcd, tr_id, gene_id, observations_orig, variance_m, variance_p)"
   ]
  },
  {
   "cell_type": "code",
   "execution_count": null,
   "metadata": {},
   "outputs": [],
   "source": []
  },
  {
   "cell_type": "markdown",
   "metadata": {},
   "source": [
    "### Run MCMC "
   ]
  },
  {
   "cell_type": "code",
   "execution_count": 54,
   "metadata": {},
   "outputs": [],
   "source": [
    "import pandas as pd"
   ]
  },
  {
   "cell_type": "code",
   "execution_count": 55,
   "metadata": {},
   "outputs": [],
   "source": [
    "df = pd.read_csv('results_mala_processed/hpdFBgn0052227_FBtr0074848.csv')"
   ]
  },
  {
   "cell_type": "code",
   "execution_count": 56,
   "metadata": {},
   "outputs": [
    {
     "data": {
      "text/html": [
       "<div>\n",
       "<style scoped>\n",
       "    .dataframe tbody tr th:only-of-type {\n",
       "        vertical-align: middle;\n",
       "    }\n",
       "\n",
       "    .dataframe tbody tr th {\n",
       "        vertical-align: top;\n",
       "    }\n",
       "\n",
       "    .dataframe thead th {\n",
       "        text-align: right;\n",
       "    }\n",
       "</style>\n",
       "<table border=\"1\" class=\"dataframe\">\n",
       "  <thead>\n",
       "    <tr style=\"text-align: right;\">\n",
       "      <th></th>\n",
       "      <th>Unnamed: 0</th>\n",
       "      <th>Unnamed: 0.1</th>\n",
       "      <th>parameter</th>\n",
       "      <th>MAP</th>\n",
       "      <th>hpd_l</th>\n",
       "      <th>hpd_u</th>\n",
       "    </tr>\n",
       "  </thead>\n",
       "  <tbody>\n",
       "    <tr>\n",
       "      <th>0</th>\n",
       "      <td>0</td>\n",
       "      <td>0</td>\n",
       "      <td>D</td>\n",
       "      <td>0.0234</td>\n",
       "      <td>0.0000</td>\n",
       "      <td>0.0524</td>\n",
       "    </tr>\n",
       "    <tr>\n",
       "      <th>1</th>\n",
       "      <td>1</td>\n",
       "      <td>1</td>\n",
       "      <td>S</td>\n",
       "      <td>0.3635</td>\n",
       "      <td>0.1895</td>\n",
       "      <td>0.6432</td>\n",
       "    </tr>\n",
       "    <tr>\n",
       "      <th>2</th>\n",
       "      <td>2</td>\n",
       "      <td>2</td>\n",
       "      <td>variance</td>\n",
       "      <td>110.8938</td>\n",
       "      <td>108.1771</td>\n",
       "      <td>113.6120</td>\n",
       "    </tr>\n",
       "    <tr>\n",
       "      <th>3</th>\n",
       "      <td>3</td>\n",
       "      <td>3</td>\n",
       "      <td>lengthscale</td>\n",
       "      <td>16.0670</td>\n",
       "      <td>14.3370</td>\n",
       "      <td>17.9985</td>\n",
       "    </tr>\n",
       "    <tr>\n",
       "      <th>4</th>\n",
       "      <td>4</td>\n",
       "      <td>4</td>\n",
       "      <td>variance_m</td>\n",
       "      <td>5.4732</td>\n",
       "      <td>4.7634</td>\n",
       "      <td>6.2805</td>\n",
       "    </tr>\n",
       "    <tr>\n",
       "      <th>5</th>\n",
       "      <td>5</td>\n",
       "      <td>5</td>\n",
       "      <td>variance_p</td>\n",
       "      <td>20.4251</td>\n",
       "      <td>18.9622</td>\n",
       "      <td>21.9362</td>\n",
       "    </tr>\n",
       "  </tbody>\n",
       "</table>\n",
       "</div>"
      ],
      "text/plain": [
       "   Unnamed: 0  Unnamed: 0.1    parameter       MAP     hpd_l     hpd_u\n",
       "0           0             0            D    0.0234    0.0000    0.0524\n",
       "1           1             1            S    0.3635    0.1895    0.6432\n",
       "2           2             2     variance  110.8938  108.1771  113.6120\n",
       "3           3             3  lengthscale   16.0670   14.3370   17.9985\n",
       "4           4             4   variance_m    5.4732    4.7634    6.2805\n",
       "5           5             5   variance_p   20.4251   18.9622   21.9362"
      ]
     },
     "execution_count": 56,
     "metadata": {},
     "output_type": "execute_result"
    }
   ],
   "source": [
    "df"
   ]
  },
  {
   "cell_type": "code",
   "execution_count": 187,
   "metadata": {},
   "outputs": [
    {
     "data": {
      "text/plain": [
       "inf"
      ]
     },
     "execution_count": 187,
     "metadata": {},
     "output_type": "execute_result"
    }
   ],
   "source": [
    "np.log(2)/np.asarray(0.0)"
   ]
  },
  {
   "cell_type": "code",
   "execution_count": 188,
   "metadata": {},
   "outputs": [
    {
     "data": {
      "text/plain": [
       "13.22799962900659"
      ]
     },
     "execution_count": 188,
     "metadata": {},
     "output_type": "execute_result"
    }
   ],
   "source": [
    "np.log(2)/np.asarray(0.0524)"
   ]
  },
  {
   "cell_type": "code",
   "execution_count": null,
   "metadata": {},
   "outputs": [],
   "source": []
  }
 ],
 "metadata": {
  "kernelspec": {
   "display_name": "Python 3",
   "language": "python",
   "name": "python3"
  },
  "language_info": {
   "codemirror_mode": {
    "name": "ipython",
    "version": 3
   },
   "file_extension": ".py",
   "mimetype": "text/x-python",
   "name": "python",
   "nbconvert_exporter": "python",
   "pygments_lexer": "ipython3",
   "version": "3.6.10"
  }
 },
 "nbformat": 4,
 "nbformat_minor": 4
}
